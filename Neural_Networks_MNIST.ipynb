{
  "cells": [
    {
      "cell_type": "code",
      "execution_count": 3,
      "id": "eee4e69b",
      "metadata": {
        "id": "eee4e69b"
      },
      "outputs": [],
      "source": [
        "import numpy as np\n",
        "import random\n",
        "import matplotlib.pyplot as plt\n",
        "from alive_progress import alive_bar\n",
        "from keras.datasets import mnist"
      ]
    },
    {
      "cell_type": "code",
      "execution_count": 4,
      "id": "b08b1926",
      "metadata": {
        "id": "b08b1926"
      },
      "outputs": [],
      "source": [
        "def vectorised_result(x):\n",
        "    vec = np.zeros((10,1))\n",
        "    vec[x] = 1\n",
        "    return vec"
      ]
    },
    {
      "cell_type": "code",
      "execution_count": 5,
      "id": "c4731816",
      "metadata": {
        "id": "c4731816"
      },
      "outputs": [],
      "source": [
        "def creating_data():\n",
        "    (train_X, train_y), (test_X, test_y) = mnist.load_data()\n",
        "    train_X = [np.reshape(x, (784, 1)) for x in train_X]\n",
        "    train_X = [x/255.0 for x in train_X]\n",
        "    train_y = [vectorised_result(y) for y in train_y]\n",
        "\n",
        "    test_X = [np.reshape(x, (784, 1)) for x in test_X]\n",
        "    test_X = [x/255.0 for x in test_X]\n",
        "    test_y = [vectorised_result(y) for y in test_y]\n",
        "\n",
        "    training_data = list(zip(train_X, train_y))\n",
        "    test_data = list(zip(test_X, test_y))\n",
        "\n",
        "    return training_data, test_data"
      ]
    },
    {
      "cell_type": "code",
      "execution_count": 6,
      "id": "d32286cc",
      "metadata": {
        "colab": {
          "base_uri": "https://localhost:8080/"
        },
        "id": "d32286cc",
        "outputId": "6df7845f-ebfc-4f25-d2d4-d22d1c2fcdcb"
      },
      "outputs": [
        {
          "output_type": "stream",
          "name": "stdout",
          "text": [
            "Downloading data from https://storage.googleapis.com/tensorflow/tf-keras-datasets/mnist.npz\n",
            "11493376/11490434 [==============================] - 0s 0us/step\n",
            "11501568/11490434 [==============================] - 0s 0us/step\n"
          ]
        }
      ],
      "source": [
        "training_data, test_data = creating_data()"
      ]
    },
    {
      "cell_type": "code",
      "execution_count": 7,
      "id": "29ed0652",
      "metadata": {
        "id": "29ed0652"
      },
      "outputs": [],
      "source": [
        "class Network(object):\n",
        "\n",
        "    def __init__(self, sizes):\n",
        "        ''' sizes = [784,30,10] means three nerual layers with indexes as there number of nodes'''\n",
        "        self.num_layers = len(sizes)\n",
        "        self.sizes = sizes\n",
        "        self.biases = [np.random.randn(size, 1) for size in sizes[1:]]\n",
        "        self.weights = [np.random.randn(x, y)\n",
        "                        for x, y in zip(sizes[1:], sizes[:-1])]\n",
        "        self.train_loss = []\n",
        "        self.test_loss = []\n",
        "\n",
        "    def sigmoid(self, x):\n",
        "        return 1.0/(1 + np.exp(-x))\n",
        "\n",
        "    def sigmoid_prime(self, x):\n",
        "        sig = self.sigmoid(x)\n",
        "        return sig*(1-sig)\n",
        "\n",
        "    def forwardprop(self, a):\n",
        "        '''Returns the output'''\n",
        "        for b, w in zip(self.biases, self.weights):\n",
        "            a = self.sigmoid(np.dot(w, a) + b)\n",
        "        return a\n",
        "\n",
        "    def SGD(self, training_data, epochs=10, mini_batch_size=10, learning_rate=0.01, regulariser=0.0, test_data=None):\n",
        "        '''Find the best parameters'''\n",
        "        if test_data:\n",
        "            test_data_size = len(test_data)\n",
        "        training_data_size = len(training_data)\n",
        "\n",
        "        print(\"By Random Initialisation:\")\n",
        "        self.train_test_loss(training_data=training_data)\n",
        "        if test_data:\n",
        "            self.train_test_loss(test_data=test_data)\n",
        "\n",
        "        for j in range(epochs):\n",
        "            print(f\"Epoch {j}:\")\n",
        "            random.shuffle(training_data)\n",
        "\n",
        "            mini_batches = [training_data[k:k+mini_batch_size] \n",
        "                            for k in range(0, training_data_size, mini_batch_size)]\n",
        "\n",
        "            mini_batches_size = len(mini_batches)\n",
        "\n",
        "            with alive_bar(mini_batches_size, force_tty=True) as bar:\n",
        "                for mini_batch in mini_batches:\n",
        "                    bar()\n",
        "                    self.update_mini_batch(mini_batch, learning_rate,training_data_size,regulariser)\n",
        "\n",
        "            self.train_test_loss(training_data=training_data)\n",
        "            if test_data:\n",
        "                self.train_test_loss(test_data=test_data)\n",
        "\n",
        "    def update_mini_batch(self, mini_batch, learning_rate,training_data_size,regulariser):\n",
        "        nabla_b = [np.zeros(b.shape) for b in self.biases]\n",
        "        nabla_w = [np.zeros(w.shape) for w in self.weights]\n",
        "\n",
        "        for x, y in mini_batch:\n",
        "            delta_nabla_b, delta_nabla_w = self.backprop(x, y)\n",
        "            nabla_b = [nb + dnb for nb, dnb in zip(nabla_b, delta_nabla_b)]\n",
        "            nabla_w = [nw + dnw for nw, dnw in zip(nabla_w, delta_nabla_w)]\n",
        "\n",
        "        self.weights = [w*(1-regulariser*(learning_rate/training_data_size)) - (learning_rate/len(mini_batch))\n",
        "                        * nw for w, nw in zip(self.weights, nabla_w)]\n",
        "        self.biases = [b - (learning_rate/len(mini_batch))\n",
        "                       * nb for b, nb in zip(self.biases, nabla_b)]\n",
        "\n",
        "    def backprop(self, x, y):\n",
        "        nabla_b = [np.zeros(b.shape) for b in self.biases]\n",
        "        nabla_w = [np.zeros(w.shape) for w in self.weights]\n",
        "\n",
        "        activation = x\n",
        "        activations = [x]\n",
        "        zs = []\n",
        "\n",
        "        for b, w in zip(self.biases, self.weights):\n",
        "            z = np.dot(w, activation) + b\n",
        "            zs.append(z)\n",
        "            activation = self.sigmoid(z)\n",
        "            activations.append(activation)\n",
        "\n",
        "        delta = self.loss_function_prime(activations[-1], y)\n",
        "        nabla_b[-1] = delta\n",
        "        nabla_w[-1] = np.dot(delta, activations[-2].transpose())\n",
        "\n",
        "        for layer in range(2, self.num_layers):\n",
        "            z = zs[-layer]\n",
        "            sp = self.sigmoid_prime(z)\n",
        "            delta = np.dot(self.weights[-layer + 1].transpose(), delta)*sp\n",
        "\n",
        "            nabla_b[-layer] = delta\n",
        "            nabla_w[-layer] = np.dot(delta,\n",
        "                                     activations[-layer - 1].transpose())\n",
        "\n",
        "        return nabla_b, nabla_w\n",
        "\n",
        "    def loss_function(self, activation_output, y):\n",
        "        return np.sum(np.nan_to_num(-y*np.log(activation_output)-(1-y)*np.log(1-activation_output)))\n",
        "\n",
        "    def loss_function_prime(self, activation_output, y):\n",
        "        return activation_output - y\n",
        "\n",
        "    def squared_norm(self, x):\n",
        "        norm_x = [xi**2 for xi in x]\n",
        "        return sum(norm_x)\n",
        "    \n",
        "    def train_test_loss(self,training_data = None, test_data = None):\n",
        "        if training_data:\n",
        "            trained_results = [(self.forwardprop(x), y) for (x, y) in training_data]\n",
        "            training_loss = [self.loss_function(x, y) for (x, y) in trained_results]\n",
        "\n",
        "            net_training_loss = 1.0*np.sum(training_loss)/len(training_data)\n",
        "\n",
        "            print(f\"  Training Loss: {net_training_loss}\")\n",
        "\n",
        "            self.train_loss.append(net_training_loss)\n",
        "\n",
        "            print(f\"  Training Fraction: {self.evaluate(trained_results)}/ {len(training_data)}\")\n",
        "        \n",
        "        else:\n",
        "            test_results = [(self.forwardprop(x), y) for (x, y) in test_data]\n",
        "            test_loss = [self.loss_function(x, y) for (x, y) in test_results]\n",
        "\n",
        "            net_test_loss = 1.0*np.sum(test_loss)/len(test_data)\n",
        "\n",
        "            print(f\"  Test Loss: {net_test_loss}\")\n",
        "\n",
        "            self.test_loss.append(net_test_loss)\n",
        "\n",
        "            print(f\"  Test Fraction: {self.evaluate(test_results)}/ {len(test_data)}\")\n",
        "    \n",
        "    def evaluate(self, data_results):\n",
        "        predictions = [(np.argmax(x), np.argmax(y)) for (x, y) in data_results]\n",
        "        return sum(int(x == y) for (x, y) in predictions)\n",
        "\n",
        "    def plotting_loss(self):\n",
        "        x1 = np.arange(0, len(self.train_loss))\n",
        "        x2 = np.arange(0,len(self.test_loss))\n",
        "        plt.title(\"Training and Testing Loss\")\n",
        "\n",
        "        plt.xlabel(\"Epoch\")\n",
        "        plt.ylabel(\"Loss\")\n",
        "\n",
        "        plt.plot(x1, self.train_loss, linestyle='--', color=\"teal\", label=\"Train Loss\")\n",
        "        plt.plot(x2, self.test_loss, linestyle='--', color=\"darkkhaki\", label=\"Test Loss\")\n",
        "        plt.legend()\n",
        "        plt.show()"
      ]
    },
    {
      "cell_type": "code",
      "execution_count": 8,
      "id": "9de4c576",
      "metadata": {
        "id": "9de4c576"
      },
      "outputs": [],
      "source": [
        "net = Network([784, 30, 10])"
      ]
    },
    {
      "cell_type": "code",
      "execution_count": 9,
      "id": "917ff20f",
      "metadata": {
        "colab": {
          "base_uri": "https://localhost:8080/"
        },
        "id": "917ff20f",
        "outputId": "03c66fd0-ec4a-463a-b087-9cd02daac81c"
      },
      "outputs": [
        {
          "output_type": "stream",
          "name": "stdout",
          "text": [
            "By Random Initialisation:\n",
            "  Training Loss: 16.902077371154355\n",
            "  Training Fraction: 4717/ 60000\n",
            "  Test Loss: 16.95251558653392\n",
            "  Test Fraction: 752/ 10000\n",
            "Epoch 0:\n",
            "|████████████████████████████████████████| 6000/6000 [100%] in 7.5s (796.31/s)                                          \n",
            "  Training Loss: 0.4949222701228462\n",
            "  Training Fraction: 55645/ 60000\n",
            "  Test Loss: 0.502911359287664\n",
            "  Test Fraction: 9252/ 10000\n",
            "Epoch 1:\n",
            "|████████████████████████████████████████| 6000/6000 [100%] in 7.7s (782.09/s)                                          \n",
            "  Training Loss: 0.3944846688154776\n",
            "  Training Fraction: 56506/ 60000\n",
            "  Test Loss: 0.42150061184126414\n",
            "  Test Fraction: 9363/ 10000\n",
            "Epoch 2:\n",
            "|████████████████████████████████████████| 6000/6000 [100%] in 8.5s (710.03/s)                                          \n",
            "  Training Loss: 0.3652358985751641\n",
            "  Training Fraction: 56917/ 60000\n",
            "  Test Loss: 0.38891592047898454\n",
            "  Test Fraction: 9435/ 10000\n",
            "Epoch 3:\n",
            "|████████████████████████████████████████| 6000/6000 [100%] in 11.2s (537.10/s)                                         \n",
            "  Training Loss: 0.330398127503009\n",
            "  Training Fraction: 57188/ 60000\n",
            "  Test Loss: 0.35657275666501254\n",
            "  Test Fraction: 9480/ 10000\n",
            "Epoch 4:\n",
            "|████████████████████████████████████████| 6000/6000 [100%] in 7.4s (813.85/s)                                          \n",
            "  Training Loss: 0.32844459666892445\n",
            "  Training Fraction: 57131/ 60000\n",
            "  Test Loss: 0.37269715642072027\n",
            "  Test Fraction: 9436/ 10000\n"
          ]
        }
      ],
      "source": [
        "net.SGD(training_data=training_data, epochs=5, mini_batch_size=10, learning_rate=0.5, regulariser=5.0, test_data=test_data)"
      ]
    },
    {
      "cell_type": "code",
      "execution_count": 10,
      "id": "7d653962",
      "metadata": {
        "colab": {
          "base_uri": "https://localhost:8080/",
          "height": 295
        },
        "id": "7d653962",
        "outputId": "edd752aa-9825-4e3d-95d6-4f268cb85a6a"
      },
      "outputs": [
        {
          "output_type": "display_data",
          "data": {
            "text/plain": [
              "<Figure size 432x288 with 1 Axes>"
            ],
            "image/png": "[encoded data removed]"
          },
          "metadata": {
            "needs_background": "light"
          }
        }
      ],
      "source": [
        "net.plotting_loss()"
      ]
    }
  ],
  "metadata": {
    "kernelspec": {
      "display_name": "Python 3 (ipykernel)",
      "language": "python",
      "name": "python3"
    },
    "language_info": {
      "codemirror_mode": {
        "name": "ipython",
        "version": 3
      },
      "file_extension": ".py",
      "mimetype": "text/x-python",
      "name": "python",
      "nbconvert_exporter": "python",
      "pygments_lexer": "ipython3",
      "version": "3.9.12"
    },
    "vscode": {
      "interpreter": {
        "hash": "916dbcbb3f70747c44a77c7bcd40155683ae19c65e1c03b4aa3499c5328201f1"
      }
    },
    "colab": {
      "provenance": [],
      "collapsed_sections": []
    }
  },
  "nbformat": 4,
  "nbformat_minor": 5
}